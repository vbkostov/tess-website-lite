{
 "cells": [
  {
   "cell_type": "code",
   "execution_count": 1,
   "id": "690813f9-bf19-44d9-930f-028f2a7f82d7",
   "metadata": {
    "tags": []
   },
   "outputs": [],
   "source": [
    "import numpy as np\n",
    "import matplotlib.pyplot as plt\n",
    "\n",
    "from scipy.interpolate import griddata\n",
    "import tesswcs\n",
    "from tesswcs import pointings\n",
    "from tesswcs.utils import footprint\n",
    "\n",
    "\n",
    "import astropy.units as u\n",
    "from astropy.io import fits\n",
    "from astropy.wcs import WCS\n",
    "from astropy.coordinates import SkyCoord, Angle\n",
    "\n",
    "import matplotlib as mpl\n",
    "from matplotlib.colors import LinearSegmentedColormap\n",
    "from matplotlib.animation import FuncAnimation, PillowWriter\n",
    "mpl.rcParams['figure.dpi'] = 150"
   ]
  },
  {
   "cell_type": "code",
   "execution_count": 2,
   "id": "574c3dce-92bc-4795-bdf7-e8c5a398553d",
   "metadata": {},
   "outputs": [],
   "source": [
    "ecliptic_plane = SkyCoord(np.arange(0, 360, 1), np.arange(0, 360, 1)*0, unit='deg', frame='geocentricmeanecliptic').transform_to('icrs')"
   ]
  },
  {
   "cell_type": "code",
   "execution_count": null,
   "id": "ffbf45ee-45cf-4ab1-a0b2-3ecb244595e4",
   "metadata": {},
   "outputs": [
    {
     "name": "stderr",
     "output_type": "stream",
     "text": [
      "WARNING: FITSFixedWarning: RADECSYS= 'ICRS ' / Astrometric system \n",
      "the RADECSYS keyword is deprecated, use RADESYSa. [astropy.wcs.wcs]\n"
     ]
    }
   ],
   "source": [
    "url = '/Users/vkostov/Desktop/backdrop.fits'#'http://galaxy.phy.cmich.edu/~axel/mwpan2/mwpan2_RGB_3600.fits'\n",
    "hdu = fits.open(url, cache=True)[0]\n",
    "wcs = WCS(hdu.header).dropaxis(-1)\n",
    "fig = plt.figure(figsize=(10, 5))\n",
    "ax = fig.add_subplot(111)\n",
    "# add the image\n",
    "\n",
    "R, C = np.meshgrid(np.arange(wcs.pixel_shape[1]), np.arange(wcs.pixel_shape[0]), indexing='ij')\n",
    "c = wcs.pixel_to_world(C, R)\n",
    "flux_data = hdu.data.sum(axis=0)\n",
    "im = plt.pcolormesh(np.nan_to_num(c.l.wrap_at(180*u.deg).deg), np.nan_to_num(c.b.deg), flux_data, vmin=0, vmax=1000, cmap='Greys_r', zorder=-10, shading='nearest')\n",
    "ax.set(xlabel='Galactic Longitude ($b$) [degrees]', ylabel='Galactic Latitude ($l$) [degrees]')\n",
    "\n",
    "# colors = [f\"C{i}\" for i in range(4)]\n",
    "colors = ['#1f77b4', '#ff7f0e', '#2ca02c', '#d62728']  # blue, orange, green, red\n",
    "\n",
    "def get_points(sector=1):\n",
    "    pointing = np.asarray(pointings[pointings['Sector'] == sector][['RA', \"Dec\", \"Roll\"]])[0]\n",
    "    x, y, camera_indices = [], [], []\n",
    "    for camera in np.arange(1, 5):\n",
    "        camera_x, camera_y = [], []\n",
    "        for ccd in np.arange(1, 5):\n",
    "            wcs = tesswcs.WCS.predict(*pointing, camera=camera, ccd=ccd)\n",
    "            c = wcs.pixel_to_world(*footprint(npoints=100).T).transform_to('galactic')\n",
    "            camera_x.append(c.l.wrap_at(180*u.deg).deg)\n",
    "            camera_y.append(c.b.deg)\n",
    "        x.append(np.hstack(camera_x))\n",
    "        y.append(np.hstack(camera_y))\n",
    "        camera_indices.append(np.full(len(np.hstack(camera_x)), camera-1))\n",
    "    return np.hstack(x), np.hstack(y), np.hstack(camera_indices)\n",
    "\n",
    "# Initialize the scatter plot\n",
    "# Create a custom colormap\n",
    "import matplotlib.colors as mcolors\n",
    "custom_cmap = mcolors.ListedColormap(colors)\n",
    "\n",
    "# Initialize the scatter plot with the custom colormap\n",
    "scatter = ax.scatter([], [], c=[], s=0.1, cmap=custom_cmap, vmin=0, vmax=3)\n",
    "\n",
    "from matplotlib.lines import Line2D\n",
    "legend_elements = [Line2D([0], [0], color=colors[i], lw=2, label=f\"Camera {i+1}\") for i in range(4)]\n",
    "ax.legend(handles=legend_elements)\n",
    "\n",
    "def update(sector):\n",
    "    x, y, cameras = get_points(sector=sector)\n",
    "    scatter.set_offsets(np.column_stack([x, y]))\n",
    "    scatter.set_array(cameras)\n",
    "    ax.set_title(f'TESS Sector {sector}')\n",
    "    plt.savefig(f'tess_galactic_sector_{sector:03d}.png')\n",
    "\n",
    "ani = FuncAnimation(fig, update, frames=np.arange(78, 79), repeat=False)\n",
    "writer = PillowWriter(fps=1)\n",
    "ani.save(\"tess_sectors_galactic_coordinates.gif\", writer=writer)"
   ]
  },
  {
   "cell_type": "code",
   "execution_count": null,
   "id": "863af5eb-0526-44d8-8b94-3648c6844a38",
   "metadata": {
    "tags": []
   },
   "outputs": [],
   "source": [
    "# Interpolate image to ICRS\n",
    "c_back = wcs.pixel_to_world(C, R).transform_to('icrs')\n",
    "# xi, yi = np.linspace(-180, 180, 3000), np.linspace(-90, 90, 1500)\n",
    "xi, yi = np.linspace(-180, 180, 600), np.linspace(-90, 90, 300)\n",
    "zi = np.asarray(griddata((np.nan_to_num(c_back.ra.wrap_at(180*u.deg).deg.flatten()),\n",
    "                          np.nan_to_num(c_back.dec.deg.flatten())),\n",
    "                          flux_data.flatten(),\n",
    "                          (xi[None,:], yi[:,None])\n",
    "                         ))\n",
    "c_low = SkyCoord(*np.meshgrid(xi, yi), unit='deg', frame='icrs')"
   ]
  },
  {
   "cell_type": "code",
   "execution_count": null,
   "id": "85616fe1-3419-4bb2-9cd7-23c9c392d5b7",
   "metadata": {
    "tags": []
   },
   "outputs": [],
   "source": [
    "fig = plt.figure(figsize=(10, 5), facecolor=None)\n",
    "ax = fig.add_subplot(111, projection=\"mollweide\")\n",
    "ax.grid(True, color='white', alpha=0.5, ls='--')\n",
    "\n",
    "ax.pcolormesh(c_low.ra[2:-2, 2:-2].wrap_at(180*u.deg).rad, c_low.dec[2:-2, 2:-2].rad, zi[2:-2, 2:-2], vmin=0, vmax=1000, cmap='Greys_r')\n",
    "s = np.argsort(ecliptic_plane.ra.wrap_at(180 * u.deg).rad)\n",
    "ax.plot(ecliptic_plane.ra.wrap_at(180 * u.deg).rad[s], ecliptic_plane.dec.rad[s], color='grey', alpha=0.5, lw=10)\n",
    "\n",
    "ax.set(facecolor=(0, 0, 0, 0), xlabel='RA [degrees]', ylabel='Declination [degrees]', xticklabels=[]);\n",
    "\n",
    "def get_points(sector = 1):\n",
    "    pointing = np.asarray(pointings[pointings['Sector'] == sector][['RA', \"Dec\", \"Roll\"]])[0]\n",
    "    x, y = [], []\n",
    "    for camera in np.arange(1, 5):\n",
    "        for ccd in np.arange(1, 5):\n",
    "            wcs = tesswcs.WCS.predict(*pointing, camera=camera, ccd=ccd)\n",
    "            c = wcs.pixel_to_world(*footprint(npoints=100).T)\n",
    "            x.append(c.ra.wrap_at(180*u.deg).deg)\n",
    "            y.append(c.dec.deg)\n",
    "    return np.hstack(x), np.hstack(y)\n",
    "\n",
    "scatter = ax.scatter([], [], c='r', s=0.1, zorder=10)\n",
    "\n",
    "def update(sector):\n",
    "    scatter.set_offsets(np.deg2rad(np.vstack(get_points(sector=sector)).T))\n",
    "    ax.set_title(f'TESS Sector {sector}')\n",
    "    plt.savefig(f'tess_icrs_sector_{sector:03d}.png')\n",
    "    \n",
    "\n",
    "ani = FuncAnimation(fig, update, frames=np.arange(80, 85), repeat=False)\n",
    "\n",
    "# Save the animation as a GIF\n",
    "writer = PillowWriter(fps=1)\n",
    "ani.save(\"tess_sectors_icrs_coordinates.gif\", writer=writer)"
   ]
  },
  {
   "cell_type": "code",
   "execution_count": null,
   "id": "a6bb3a15",
   "metadata": {},
   "outputs": [],
   "source": [
    "xxxx"
   ]
  },
  {
   "cell_type": "code",
   "execution_count": null,
   "id": "b26b2f27-7d45-43f4-904e-a8ad1a75be61",
   "metadata": {},
   "outputs": [],
   "source": [
    "# url = '/Users/vkostov/Desktop/backdrop.fits'#'http://galaxy.phy.cmich.edu/~axel/mwpan2/mwpan2_RGB_3600.fits'\n",
    "# hdu = fits.open(url, cache=True)[0]\n",
    "# wcs = WCS(hdu.header).dropaxis(-1)\n",
    "# fig = plt.figure(figsize=(10, 5))\n",
    "# ax = fig.add_subplot(111)\n",
    "# # add the image\n",
    "\n",
    "# R, C = np.meshgrid(np.arange(wcs.pixel_shape[1]), np.arange(wcs.pixel_shape[0]), indexing='ij')\n",
    "# c = wcs.pixel_to_world(C, R)\n",
    "# flux_data = hdu.data.sum(axis=0)\n",
    "# im = plt.pcolormesh(np.nan_to_num(c.l.wrap_at(180*u.deg).deg), np.nan_to_num(c.b.deg), flux_data, vmin=0, vmax=1000, cmap='Greys_r', zorder=-10, shading='nearest')\n",
    "# ax.set(xlabel='Galactic Longitude ($b$) [degrees]', ylabel='Galactic Latitude ($l$) [degrees]')\n",
    "\n",
    "# def get_points(sector = 1):\n",
    "#     pointing = np.asarray(pointings[pointings['Sector'] == sector][['RA', \"Dec\", \"Roll\"]])[0]\n",
    "#     x, y = [], []\n",
    "#     for camera in np.arange(1, 5):\n",
    "#         for ccd in np.arange(1, 5):\n",
    "#             wcs = tesswcs.WCS.predict(*pointing, camera=camera, ccd=ccd)\n",
    "#             c = wcs.pixel_to_world(*footprint(npoints=100).T).transform_to('galactic')\n",
    "#             x.append(c.l.wrap_at(180*u.deg).deg)\n",
    "#             y.append(c.b.deg)\n",
    "#             # color_ = f\"C{camera - 1}\"\n",
    "#             # print(color_)\n",
    "#     return np.hstack(x), np.hstack(y)#, color_\n",
    "\n",
    "# #scatter = ax.scatter(*get_points(sector=1), c='r', s=0.1)\n",
    "# # Initialize the scatter plot\n",
    "# scatter = ax.scatter([], [], c='r', s=0.1)\n",
    "\n",
    "# # from matplotlib.lines import Line2D\n",
    "# # legend_elements = [Line2D([0], [0], color=f\"C{i}\", lw=2, label=f\"Camera {i+1}\") for i in range(4)]\n",
    "# # ax.legend(handles=legend_elements)\n",
    "\n",
    "# def update(sector):\n",
    "#     scatter.set_offsets(np.vstack(get_points(sector=sector)).T)\n",
    "#     ax.set_title(f'TESS Sector {sector}')\n",
    "#     plt.savefig(f'tess_galactic_sector_{sector:03d}.png')\n",
    "\n",
    "# ani = FuncAnimation(fig, update, frames=np.arange(80, 81), repeat=False)\n",
    "\n",
    "# # Save the animation as a GIF\n",
    "# writer = PillowWriter(fps=1)\n",
    "# ani.save(\"tess_sectors_galactic_coordinates.gif\", writer=writer)"
   ]
  }
 ],
 "metadata": {
  "kernelspec": {
   "display_name": "Python 3 (ipykernel)",
   "language": "python",
   "name": "python3"
  },
  "language_info": {
   "codemirror_mode": {
    "name": "ipython",
    "version": 3
   },
   "file_extension": ".py",
   "mimetype": "text/x-python",
   "name": "python",
   "nbconvert_exporter": "python",
   "pygments_lexer": "ipython3",
   "version": "3.11.0"
  },
  "widgets": {
   "application/vnd.jupyter.widget-state+json": {
    "state": {},
    "version_major": 2,
    "version_minor": 0
   }
  }
 },
 "nbformat": 4,
 "nbformat_minor": 5
}
